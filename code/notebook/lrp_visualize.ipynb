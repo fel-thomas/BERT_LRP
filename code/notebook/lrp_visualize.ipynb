{
 "cells": [
  {
   "cell_type": "markdown",
   "metadata": {},
   "source": [
    "#### Run relevance backout here"
   ]
  },
  {
   "cell_type": "code",
   "execution_count": 59,
   "metadata": {},
   "outputs": [],
   "source": [
    "import pickle\n",
    "import re\n",
    "import os\n",
    "\n",
    "import random\n",
    "import numpy as np\n",
    "import torch\n",
    "from random import shuffle\n",
    "import argparse\n",
    "import pickle\n",
    "\n",
    "import collections\n",
    "\n",
    "import torch\n",
    "import torch.nn as nn\n",
    "import torch.nn.functional as F\n",
    "import torch.optim as optim\n",
    "\n",
    "import sys\n",
    "sys.path.append(\"..\")\n",
    "\n",
    "from model.BERT import *\n",
    "\n",
    "from torch.utils.data import DataLoader, TensorDataset\n",
    "from torch.utils.data.distributed import DistributedSampler\n",
    "from torch.utils.data.sampler import RandomSampler, SequentialSampler\n",
    "from tqdm import tqdm, trange\n",
    "\n",
    "from util.optimization import BERTAdam\n",
    "from util.processor import *\n",
    "\n",
    "\n",
    "from util.tokenization import *\n",
    "\n",
    "from util.evaluation import *\n",
    "\n",
    "from util.train_helper import *\n",
    "\n",
    "import logging\n",
    "logging.basicConfig(format = '%(asctime)s - %(levelname)s - %(name)s -   %(message)s', \n",
    "                    datefmt = '%m/%d/%Y %H:%M:%S',\n",
    "                    level = logging.INFO)\n",
    "logger = logging.getLogger(__name__)\n",
    "\n",
    "from sklearn.metrics import classification_report\n",
    "\n",
    "# this imports most of the helpers needed to eval the model\n",
    "from run_classifier import *\n",
    "\n",
    "sys.path.append(\"..\")\n",
    "import operator\n",
    "\n",
    "import matplotlib.pyplot as plt\n",
    "import seaborn as sns; sns.set()\n",
    "plt.rcParams[\"font.family\"] = \"Times New Roman\""
   ]
  },
  {
   "cell_type": "markdown",
   "metadata": {},
   "source": [
    "#### Set-ups"
   ]
  },
  {
   "cell_type": "code",
   "execution_count": 2,
   "metadata": {},
   "outputs": [
    {
     "name": "stderr",
     "output_type": "stream",
     "text": [
      "11/05/2020 15:25:37 - INFO - run_classifier -   gpu is out of the picture, let us use CPU\n"
     ]
    }
   ],
   "source": [
    "# Note that this notebook only supports single GPU evaluation\n",
    "# which is sufficient for most of tasks by using lower batch size.\n",
    "IS_CUDA = False\n",
    "if IS_CUDA:\n",
    "    CUDA_DEVICE = \"cuda:2\"\n",
    "    device = torch.device(CUDA_DEVICE)\n",
    "    n_gpu = torch.cuda.device_count()\n",
    "    logger.info(\"device %s in total n_gpu %d distributed training\", device, n_gpu)\n",
    "else:\n",
    "    # bad luck, we are on CPU now!\n",
    "    logger.info(\"gpu is out of the picture, let us use CPU\")\n",
    "    device = torch.device(\"cpu\")"
   ]
  },
  {
   "cell_type": "markdown",
   "metadata": {},
   "source": [
    "#### Indicate your folders"
   ]
  },
  {
   "cell_type": "code",
   "execution_count": 7,
   "metadata": {},
   "outputs": [],
   "source": [
    "lrp_data_dir = \"../../results\"\n",
    "vocab_data_dir = \"../../models/BERT-Google/vocab.txt\"\n",
    "\n",
    "TASK_NAME = \"SST5\"\n",
    "DATA_DIR = \"../../datasets/SST5/\"\n",
    "            \n",
    "# \"../../data/uncased_L-12_H-768_A-12/\" is for the default BERT-base pretrain\n",
    "BERT_PATH = \"../../models/BERT-Google/\"\n",
    "MODEL_PATH = \"../../results/\" + TASK_NAME + \"/best_checkpoint.bin\"\n",
    "EVAL_BATCH_SIZE = 24 # you can tune this down depends on GPU you have.\n",
    "\n",
    "# This loads the task processor for you.\n",
    "processors = {\n",
    "    \"SST5\":SST5_Processor\n",
    "}\n",
    "\n",
    "processor = processors[TASK_NAME]()\n",
    "label_list = processor.get_labels()"
   ]
  },
  {
   "cell_type": "code",
   "execution_count": 8,
   "metadata": {},
   "outputs": [
    {
     "name": "stderr",
     "output_type": "stream",
     "text": [
      "11/05/2020 15:37:22 - INFO - util.train_helper -   model = BERT\n",
      "11/05/2020 15:37:22 - INFO - util.train_helper -   *** Model Config ***\n",
      "11/05/2020 15:37:22 - INFO - util.train_helper -   {\n",
      "  \"attention_probs_dropout_prob\": 0.1,\n",
      "  \"full_pooler\": false,\n",
      "  \"hidden_act\": \"gelu\",\n",
      "  \"hidden_dropout_prob\": 0.1,\n",
      "  \"hidden_size\": 768,\n",
      "  \"initializer_range\": 0.02,\n",
      "  \"intermediate_size\": 3072,\n",
      "  \"max_position_embeddings\": 512,\n",
      "  \"num_attention_heads\": 12,\n",
      "  \"num_hidden_layers\": 12,\n",
      "  \"type_vocab_size\": 2,\n",
      "  \"vocab_size\": 30522\n",
      "}\n",
      "\n"
     ]
    },
    {
     "name": "stdout",
     "output_type": "stream",
     "text": [
      "init_weight = True\n",
      "init_lrp = True\n"
     ]
    }
   ],
   "source": [
    "model, tokenizer, optimizer = \\\n",
    "    load_model_setups(vocab_file=BERT_PATH + \"vocab.txt\",\n",
    "                       bert_config_file=BERT_PATH + \"bert_config.json\",\n",
    "                       init_checkpoint=MODEL_PATH,\n",
    "                       label_list=label_list,\n",
    "                       num_train_steps=20,\n",
    "                       do_lower_case=True,\n",
    "                       # below is not required for eval\n",
    "                       learning_rate=2e-5,\n",
    "                       warmup_proportion=0.1,\n",
    "                       init_lrp=True)\n",
    "model = model.to(device) # send the model to device"
   ]
  },
  {
   "cell_type": "code",
   "execution_count": 9,
   "metadata": {},
   "outputs": [
    {
     "name": "stderr",
     "output_type": "stream",
     "text": [
      " 14%|█▍        | 309/2210 [00:00<00:00, 3088.15it/s]"
     ]
    },
    {
     "name": "stdout",
     "output_type": "stream",
     "text": [
      "0\n",
      "guid= test-0\n",
      "text_a= no movement , no yuks , not much of anything .\n",
      "text_b= None\n",
      "label= 1\n"
     ]
    },
    {
     "name": "stderr",
     "output_type": "stream",
     "text": [
      "100%|██████████| 2210/2210 [00:00<00:00, 2952.68it/s]\n"
     ]
    }
   ],
   "source": [
    "test_examples = processor.get_test_examples(DATA_DIR)\n",
    "test_features = \\\n",
    "    convert_examples_to_features(\n",
    "        test_examples,\n",
    "        label_list,\n",
    "        512,\n",
    "        tokenizer)\n",
    "\n",
    "all_input_ids = torch.tensor([f.input_ids for f in test_features], dtype=torch.long)\n",
    "all_input_mask = torch.tensor([f.input_mask for f in test_features], dtype=torch.long)\n",
    "all_segment_ids = torch.tensor([f.segment_ids for f in test_features], dtype=torch.long)\n",
    "all_label_ids = torch.tensor([f.label_id for f in test_features], dtype=torch.long)\n",
    "all_seq_len = torch.tensor([[f.seq_len] for f in test_features], dtype=torch.long)\n",
    "\n",
    "test_data = TensorDataset(all_input_ids, all_input_mask, all_segment_ids,\n",
    "                          all_label_ids, all_seq_len)\n",
    "test_dataloader = DataLoader(test_data, batch_size=EVAL_BATCH_SIZE, shuffle=False)"
   ]
  },
  {
   "cell_type": "markdown",
   "metadata": {},
   "source": [
    "#### Call evaluation loop to get accuracy and attribution scores"
   ]
  },
  {
   "cell_type": "code",
   "execution_count": 11,
   "metadata": {},
   "outputs": [
    {
     "name": "stderr",
     "output_type": "stream",
     "text": [
      "Iteration: 100%|██████████| 93/93 [04:27<00:00,  2.88s/it]\n",
      "11/05/2020 15:43:09 - INFO - run_classifier -   ***** Eval results *****\n",
      "11/05/2020 15:43:09 - INFO - run_classifier -     test_loss = 1.058623307494707\n",
      "\n",
      "11/05/2020 15:43:09 - INFO - run_classifier -     5-class test_accuracy = 0.5710407239819004\n",
      "\n",
      "11/05/2020 15:43:09 - INFO - run_classifier -   ***** Finish LRP *****\n"
     ]
    }
   ],
   "source": [
    "# we did not exclude gradients, for attribution methods\n",
    "model.eval() # this line will deactivate dropouts\n",
    "test_loss, test_accuracy = 0, 0\n",
    "nb_test_steps, nb_test_examples = 0, 0\n",
    "pred_logits = []\n",
    "actual = []\n",
    "\n",
    "lrp_scores = []\n",
    "lat_scores = []\n",
    "inputs_ids = []\n",
    "seqs_lens = []\n",
    "\n",
    "# we don't need gradient in this case.\n",
    "for _, batch in enumerate(tqdm(test_dataloader, desc=\"Iteration\")):\n",
    "    input_ids, input_mask, segment_ids, label_ids, seq_lens = batch\n",
    "    # truncate to save space and computing resource\n",
    "    max_seq_lens = max(seq_lens)[0]\n",
    "    input_ids = input_ids[:,:max_seq_lens]\n",
    "    input_mask = input_mask[:,:max_seq_lens]\n",
    "    segment_ids = segment_ids[:,:max_seq_lens]\n",
    "\n",
    "    input_ids = input_ids.to(device)\n",
    "    input_mask = input_mask.to(device)\n",
    "    segment_ids = segment_ids.to(device)\n",
    "    label_ids = label_ids.to(device)\n",
    "    seq_lens = seq_lens.to(device)\n",
    "\n",
    "    # intentially with gradient\n",
    "    tmp_test_loss, logits, all_encoder_attention_scores, embedding_output = \\\n",
    "        model(input_ids, segment_ids, input_mask, seq_lens,\n",
    "                device=device, labels=label_ids)\n",
    "\n",
    "    # for lrp\n",
    "    LRP_class = len(label_list) - 1\n",
    "    Rout_mask = torch.zeros((input_ids.shape[0], len(label_list))).to(device)\n",
    "    Rout_mask[:, LRP_class] = 1.0\n",
    "    relevance_score = logits*Rout_mask\n",
    "    lrp_score = model.backward_lrp(relevance_score).sum(dim=-1).cpu().data\n",
    "    input_ids = input_ids.cpu().data\n",
    "    seq_lens = seq_lens.cpu().data\n",
    "    lrp_scores.append(lrp_score)\n",
    "    inputs_ids.append(input_ids)\n",
    "    seqs_lens.append(seq_lens)\n",
    "\n",
    "    # for gradient\n",
    "\n",
    "    # for attention only tracing\n",
    "    attention_scores = lat(all_encoder_attention_scores)\n",
    "    lat_scores.append(attention_scores)\n",
    "    \n",
    "    logits = F.softmax(logits, dim=-1)\n",
    "    logits = logits.detach().cpu().numpy()\n",
    "    pred_logits.append(logits)\n",
    "    label_ids = label_ids.to('cpu').numpy()\n",
    "    actual.append(label_ids)\n",
    "    outputs = np.argmax(logits, axis=1)\n",
    "    tmp_test_accuracy=np.sum(outputs == label_ids)\n",
    "\n",
    "    test_loss += tmp_test_loss.mean().item()\n",
    "    test_accuracy += tmp_test_accuracy\n",
    "\n",
    "    nb_test_examples += input_ids.size(0)\n",
    "    nb_test_steps += 1\n",
    "\n",
    "test_loss = test_loss / nb_test_steps\n",
    "test_accuracy = test_accuracy / nb_test_examples\n",
    "\n",
    "result = collections.OrderedDict()\n",
    "result = {'test_loss': test_loss,\n",
    "            str(len(label_list))+ '-class test_accuracy': test_accuracy}\n",
    "logger.info(\"***** Eval results *****\")\n",
    "for key in result.keys():\n",
    "    logger.info(\"  %s = %s\\n\", key, str(result[key]))\n",
    "# get predictions needed for evaluation\n",
    "pred_logits = np.concatenate(pred_logits, axis=0)\n",
    "actual = np.concatenate(actual, axis=0)\n",
    "pred_label = np.argmax(pred_logits, axis=-1)\n",
    "\n",
    "lrp_state_dict = dict()\n",
    "lrp_state_dict[\"lrp_scores\"] = lrp_scores\n",
    "lrp_state_dict[\"inputs_ids\"] = inputs_ids\n",
    "lrp_state_dict[\"seqs_lens\"] = seqs_lens\n",
    "lrp_state_dict[\"lat_scores\"] = lat_scores\n",
    "\n",
    "logger.info(\"***** Finish Attribution Backouts *****\")"
   ]
  },
  {
   "cell_type": "markdown",
   "metadata": {},
   "source": [
    "#### Aggregated lrp scores on a token aggregated across a dataset"
   ]
  },
  {
   "cell_type": "markdown",
   "metadata": {},
   "source": [
    "SST-5"
   ]
  },
  {
   "cell_type": "code",
   "execution_count": 82,
   "metadata": {},
   "outputs": [],
   "source": [
    "def lat(attention_probs):\n",
    "    # backing out using the quasi-attention\n",
    "    attention_scores = torch.zeros_like(input_ids, dtype=torch.float)\n",
    "    attention_scores[:,0] = 1.\n",
    "    attention_scores = torch.stack(12 * [attention_scores], dim=1).unsqueeze(dim=2)\n",
    "    for i in reversed(range(12)):\n",
    "        attention_scores = torch.matmul(attention_scores, attention_probs[i])\n",
    "    attention_scores = attention_scores.sum(dim=1).squeeze(dim=1).data\n",
    "    attention_scores = attention_scores / torch.max(attention_scores)\n",
    "    return attention_scores\n",
    "\n",
    "def inverse_mapping(vocab_dict):\n",
    "    inverse_vocab_dict = {}\n",
    "    for k, v in vocab_dict.items():\n",
    "        inverse_vocab_dict[v] = k\n",
    "    return inverse_vocab_dict\n",
    "\n",
    "def translate(token_ids, vocab):\n",
    "    tokens = []\n",
    "    for _id in token_ids.tolist():\n",
    "        tokens.append(vocab[_id])\n",
    "    return tokens\n",
    "\n",
    "def load_attribution_scores(vocab_data_dir, inputs_ids, seqs_lens, raw_attribution_scores):\n",
    "    vocab = inverse_mapping(load_vocab(vocab_data_dir, pretrain=False))\n",
    "    word_lrp = {}\n",
    "    word_lrp_list = []\n",
    "    sentence_lrp = []\n",
    "    for batch_idx in range(len(inputs_ids)):\n",
    "        for seq_idx in range(inputs_ids[batch_idx].shape[0]):\n",
    "            seq_len = seqs_lens[batch_idx][seq_idx].tolist()[0]\n",
    "            tokens = translate(inputs_ids[batch_idx][seq_idx], vocab)[:seq_len]\n",
    "            attribution_scores = raw_attribution_scores[batch_idx][seq_idx][:seq_len]\n",
    "            sentence_attribution_scores = (attribution_scores[1:-2] / torch.max(attribution_scores[1:-2])).tolist()\n",
    "            sentence_lrp.append(list(zip(tokens[1:-2], sentence_attribution_scores)))\n",
    "            for i in range(len(tokens)):\n",
    "                word_lrp_list.append((tokens[i], attribution_scores[i]))\n",
    "                if tokens[i] in word_lrp.keys():\n",
    "                    word_lrp[tokens[i]].append(attribution_scores[i])\n",
    "                else:\n",
    "                    word_lrp[tokens[i]] = [attribution_scores[i]]\n",
    "    filter_word_lrp = {}\n",
    "    for k, v in word_lrp.items():\n",
    "        if len(v) > 1:\n",
    "            filter_word_lrp[k] = sum(v)*1.0/len(v)\n",
    "    filter_word_lrp = [(k, v) for k, v in filter_word_lrp.items()] \n",
    "    filter_word_lrp.sort(key = lambda x: x[1], reverse=True)  \n",
    "    word_lrp_list.sort(key = lambda x: x[1], reverse=True)\n",
    "    \n",
    "    return filter_word_lrp, word_lrp_list, sentence_lrp\n",
    "\n",
    "def heatmap_viz(token_grad, vmin=0, vmax=1, cmap=\"Blues\"):\n",
    "    scores = [tu[1] for tu in token_grad]\n",
    "    tokens = [tu[0] for tu in token_grad]\n",
    "    fig, ax = plt.subplots(figsize=(10,1))\n",
    "    ax = sns.heatmap([scores], cmap=cmap, xticklabels=tokens, yticklabels=False,\n",
    "                     cbar_kws=dict(shrink=1, aspect=4, ), linewidths=0.8, vmin=vmin, vmax=vmax)\n",
    "    ax.set_xticklabels(tokens, size = 18)\n",
    "    cbar = ax.collections[0].colorbar\n",
    "    # here set the labelsize by 20\n",
    "    cbar.ax.tick_params(labelsize=20)\n",
    "    plt.show()"
   ]
  },
  {
   "cell_type": "code",
   "execution_count": 83,
   "metadata": {},
   "outputs": [],
   "source": [
    "word_dict_scores, word_list_scores, sentence_lrp = \\\n",
    "    load_attribution_scores(vocab_data_dir, \n",
    "                            lrp_state_dict[\"inputs_ids\"], \n",
    "                            lrp_state_dict[\"seqs_lens\"],\n",
    "                            lrp_state_dict[\"lat_scores\"])"
   ]
  },
  {
   "cell_type": "code",
   "execution_count": 84,
   "metadata": {},
   "outputs": [
    {
     "data": {
      "text/plain": [
       "[('[CLS]', tensor(0.1637)),\n",
       " ('[SEP]', tensor(0.0400)),\n",
       " ('.', tensor(0.0371)),\n",
       " ('amazingly', tensor(0.0320)),\n",
       " ('repetitive', tensor(0.0291)),\n",
       " ('requires', tensor(0.0291)),\n",
       " ('embarrassing', tensor(0.0288)),\n",
       " ('quietly', tensor(0.0285)),\n",
       " ('fits', tensor(0.0285)),\n",
       " ('observed', tensor(0.0282)),\n",
       " ('clocks', tensor(0.0281)),\n",
       " ('reveals', tensor(0.0279)),\n",
       " ('geek', tensor(0.0277)),\n",
       " ('masterpiece', tensor(0.0277)),\n",
       " ('blur', tensor(0.0275)),\n",
       " ('wreck', tensor(0.0274)),\n",
       " ('##fied', tensor(0.0273)),\n",
       " ('in', tensor(0.0272)),\n",
       " ('lifeless', tensor(0.0272)),\n",
       " ('marvelous', tensor(0.0271))]"
      ]
     },
     "execution_count": 84,
     "metadata": {},
     "output_type": "execute_result"
    }
   ],
   "source": [
    "word_dict_scores[:20]"
   ]
  },
  {
   "cell_type": "code",
   "execution_count": 85,
   "metadata": {},
   "outputs": [
    {
     "data": {
      "text/plain": [
       "[('ol', tensor(0.0171)),\n",
       " ('fuller', tensor(0.0171)),\n",
       " ('##ny', tensor(0.0170)),\n",
       " ('##lich', tensor(0.0170)),\n",
       " ('##nik', tensor(0.0170)),\n",
       " ('##ough', tensor(0.0170)),\n",
       " ('ops', tensor(0.0169)),\n",
       " ('pluto', tensor(0.0168)),\n",
       " ('##ess', tensor(0.0168)),\n",
       " ('auto', tensor(0.0168)),\n",
       " ('ala', tensor(0.0167)),\n",
       " ('##ods', tensor(0.0167)),\n",
       " ('civil', tensor(0.0166)),\n",
       " ('lovers', tensor(0.0164)),\n",
       " ('za', tensor(0.0162)),\n",
       " ('##uber', tensor(0.0161)),\n",
       " ('plum', tensor(0.0159)),\n",
       " ('kidd', tensor(0.0158)),\n",
       " ('anthony', tensor(0.0155)),\n",
       " ('hopkins', tensor(0.0132))]"
      ]
     },
     "execution_count": 85,
     "metadata": {},
     "output_type": "execute_result"
    }
   ],
   "source": [
    "word_dict_scores[-20:]"
   ]
  },
  {
   "cell_type": "code",
   "execution_count": 90,
   "metadata": {},
   "outputs": [
    {
     "data": {
      "text/plain": [
       "[('time', 0.7648717761039734),\n",
       " ('change', 0.7658482193946838),\n",
       " ('##r', 0.7352558970451355),\n",
       " ('may', 0.7656140923500061),\n",
       " ('not', 0.7919691801071167),\n",
       " ('be', 0.795695960521698),\n",
       " ('the', 0.9707114696502686),\n",
       " ('most', 0.7809598445892334),\n",
       " ('memorable', 0.8501444458961487),\n",
       " ('cinema', 0.7827278971672058),\n",
       " ('session', 0.7860646843910217),\n",
       " ('but', 0.8116010427474976),\n",
       " ('its', 0.7560173273086548),\n",
       " ('profound', 0.8564774394035339),\n",
       " ('self', 0.784490168094635),\n",
       " ('evaluation', 0.7790082097053528),\n",
       " ('message', 0.8286665081977844),\n",
       " ('about', 0.7785549163818359),\n",
       " ('our', 0.7793787717819214),\n",
       " ('fragile', 0.8516889214515686),\n",
       " ('existence', 0.8701784610748291),\n",
       " ('and', 0.8645128011703491),\n",
       " ('the', 1.0),\n",
       " ('absence', 0.830861508846283),\n",
       " ('of', 0.8779792189598083),\n",
       " ('spiritual', 0.8069813251495361),\n",
       " ('guidance', 0.8318961262702942),\n",
       " ('should', 0.808224618434906),\n",
       " ('at', 0.8545145988464355),\n",
       " ('least', 0.7949985861778259),\n",
       " ('invade', 0.7993617653846741),\n",
       " ('an', 0.8003910183906555),\n",
       " ('abundance', 0.7996200323104858),\n",
       " ('of', 0.8768180012702942),\n",
       " ('minds', 0.7918447256088257)]"
      ]
     },
     "execution_count": 90,
     "metadata": {},
     "output_type": "execute_result"
    }
   ],
   "source": [
    "sentence_lrp[300]"
   ]
  },
  {
   "cell_type": "code",
   "execution_count": 89,
   "metadata": {},
   "outputs": [
    {
     "name": "stderr",
     "output_type": "stream",
     "text": [
      "11/05/2020 16:05:54 - WARNING - matplotlib.font_manager -   findfont: Font family ['Times New Roman'] not found. Falling back to DejaVu Sans.\n"
     ]
    },
    {
     "data": {
      "image/png": "[encoded data removed]",
      "text/plain": [
       "<Figure size 720x72 with 2 Axes>"
      ]
     },
     "metadata": {},
     "output_type": "display_data"
    }
   ],
   "source": [
    "heatmap_viz(sentence_lrp[300], vmin=0.6, vmax=1)"
   ]
  },
  {
   "cell_type": "code",
   "execution_count": null,
   "metadata": {},
   "outputs": [],
   "source": []
  }
 ],
 "metadata": {
  "kernelspec": {
   "display_name": "Python 3",
   "language": "python",
   "name": "python3"
  },
  "language_info": {
   "codemirror_mode": {
    "name": "ipython",
    "version": 3
   },
   "file_extension": ".py",
   "mimetype": "text/x-python",
   "name": "python",
   "nbconvert_exporter": "python",
   "pygments_lexer": "ipython3",
   "version": "3.7.6"
  }
 },
 "nbformat": 4,
 "nbformat_minor": 4
}
