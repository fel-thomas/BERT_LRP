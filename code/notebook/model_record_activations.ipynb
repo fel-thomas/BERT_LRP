{
 "cells": [
  {
   "cell_type": "code",
   "execution_count": 2,
   "metadata": {},
   "outputs": [],
   "source": [
    "import sys\n",
    "sys.path.append(\"..\")\n",
    "from model.BERT import *"
   ]
  },
  {
   "cell_type": "code",
   "execution_count": 29,
   "metadata": {},
   "outputs": [
    {
     "name": "stdout",
     "output_type": "stream",
     "text": [
      " torch.Size([16, 64])\n",
      "***\n"
     ]
    }
   ],
   "source": [
    "import torch\n",
    "import torch.nn as nn\n",
    "import torch.nn.functional as F\n",
    "\n",
    "import torchvision.models as tmodels\n",
    "from functools import partial\n",
    "import collections\n",
    "\n",
    "# dummy data: 10 batches of images with batch size 16\n",
    "dataset = [torch.rand(16,128) for _ in range(10)]\n",
    "\n",
    "# network: lstm\n",
    "net = nn.Linear(128,64)\n",
    "\n",
    "# a dictionary that keeps saving the activations as they come\n",
    "func_inputs = collections.defaultdict(list)\n",
    "func_activations = collections.defaultdict(list)\n",
    "def save_activation(name, mod, inps, out):\n",
    "    func_inputs[name] = [inp.cpu() for inp in inps]\n",
    "    func_activations[name] = out.cpu()\n",
    "\n",
    "# Registering hooks for all the Conv2d layers\n",
    "# Note: Hooks are called EVERY TIME the module performs a forward pass. For modules that are\n",
    "# called repeatedly at different stages of the forward pass (like RELUs), this will save different\n",
    "# activations. Editing the forward pass code to save activations is the way to go for these cases.\n",
    "for name, m in net.named_modules():\n",
    "    # partial to assign the layer name to each hook\n",
    "    m.register_forward_hook(partial(save_activation, name))\n",
    "\n",
    "# forward pass through the full dataset\n",
    "for batch in dataset:\n",
    "    out = net(batch)\n",
    "\n",
    "# concatenate all the outputs we saved to get the the activations for each layer for the whole dataset\n",
    "func_activations = {name: outputs for name, outputs in func_activations.items()}\n",
    "\n",
    "# just print out the sizes of the saved activations as a sanity check\n",
    "for k,v in func_activations.items():\n",
    "    print(k, v.shape)\n",
    "    print(\"***\")"
   ]
  },
  {
   "cell_type": "code",
   "execution_count": 30,
   "metadata": {},
   "outputs": [
    {
     "name": "stdout",
     "output_type": "stream",
     "text": [
      "init_weight = True\n"
     ]
    }
   ],
   "source": [
    "bert_config = BertConfig(\n",
    "    hidden_size=768,\n",
    "    num_hidden_layers=2,\n",
    "    num_attention_heads=2,\n",
    "    intermediate_size=3072,\n",
    "    hidden_act=\"gelu\",\n",
    "    hidden_dropout_prob=0.1,\n",
    "    attention_probs_dropout_prob=0.1,\n",
    "    max_position_embeddings=512,\n",
    "    type_vocab_size=2,\n",
    "    initializer_range=0.02\n",
    ")\n",
    "model = BertForSequenceClassification(bert_config, 2)"
   ]
  },
  {
   "cell_type": "code",
   "execution_count": 31,
   "metadata": {},
   "outputs": [
    {
     "name": "stdout",
     "output_type": "stream",
     "text": [
      "\n",
      "bert\n",
      "bert.embeddings\n",
      "bert.embeddings.word_embeddings\n",
      "bert.embeddings.position_embeddings\n",
      "bert.embeddings.token_type_embeddings\n",
      "bert.embeddings.LayerNorm\n",
      "bert.embeddings.dropout\n",
      "bert.encoder\n",
      "bert.encoder.layer\n",
      "bert.encoder.layer.0\n",
      "bert.encoder.layer.0.attention\n",
      "bert.encoder.layer.0.attention.self\n",
      "bert.encoder.layer.0.attention.self.query\n",
      "bert.encoder.layer.0.attention.self.key\n",
      "bert.encoder.layer.0.attention.self.value\n",
      "bert.encoder.layer.0.attention.self.dropout\n",
      "bert.encoder.layer.0.attention.output\n",
      "bert.encoder.layer.0.attention.output.dense\n",
      "bert.encoder.layer.0.attention.output.LayerNorm\n",
      "bert.encoder.layer.0.attention.output.dropout\n",
      "bert.encoder.layer.0.intermediate\n",
      "bert.encoder.layer.0.intermediate.dense\n",
      "bert.encoder.layer.0.output\n",
      "bert.encoder.layer.0.output.dense\n",
      "bert.encoder.layer.0.output.LayerNorm\n",
      "bert.encoder.layer.0.output.dropout\n",
      "bert.encoder.layer.1\n",
      "bert.encoder.layer.1.attention\n",
      "bert.encoder.layer.1.attention.self\n",
      "bert.encoder.layer.1.attention.self.query\n",
      "bert.encoder.layer.1.attention.self.key\n",
      "bert.encoder.layer.1.attention.self.value\n",
      "bert.encoder.layer.1.attention.self.dropout\n",
      "bert.encoder.layer.1.attention.output\n",
      "bert.encoder.layer.1.attention.output.dense\n",
      "bert.encoder.layer.1.attention.output.LayerNorm\n",
      "bert.encoder.layer.1.attention.output.dropout\n",
      "bert.encoder.layer.1.intermediate\n",
      "bert.encoder.layer.1.intermediate.dense\n",
      "bert.encoder.layer.1.output\n",
      "bert.encoder.layer.1.output.dense\n",
      "bert.encoder.layer.1.output.LayerNorm\n",
      "bert.encoder.layer.1.output.dropout\n",
      "bert.pooler\n",
      "bert.pooler.dense\n",
      "bert.pooler.activation\n",
      "dropout\n",
      "classifier\n"
     ]
    }
   ],
   "source": [
    "for name, m in model.named_modules():\n",
    "    print(name)"
   ]
  },
  {
   "cell_type": "code",
   "execution_count": 32,
   "metadata": {},
   "outputs": [],
   "source": [
    "# Registering hooks for all the Conv2d layers\n",
    "# Note: Hooks are called EVERY TIME the module performs a forward pass. For modules that are\n",
    "# called repeatedly at different stages of the forward pass (like RELUs), this will save different\n",
    "# activations. Editing the forward pass code to save activations is the way to go for these cases.\n",
    "for name, m in model.named_modules():\n",
    "    # partial to assign the layer name to each hook\n",
    "    m.register_forward_hook(partial(save_activation, name))"
   ]
  },
  {
   "cell_type": "code",
   "execution_count": null,
   "metadata": {},
   "outputs": [],
   "source": []
  }
 ],
 "metadata": {
  "kernelspec": {
   "display_name": "Python 3",
   "language": "python",
   "name": "python3"
  },
  "language_info": {
   "codemirror_mode": {
    "name": "ipython",
    "version": 3
   },
   "file_extension": ".py",
   "mimetype": "text/x-python",
   "name": "python",
   "nbconvert_exporter": "python",
   "pygments_lexer": "ipython3",
   "version": "3.7.3"
  }
 },
 "nbformat": 4,
 "nbformat_minor": 4
}
